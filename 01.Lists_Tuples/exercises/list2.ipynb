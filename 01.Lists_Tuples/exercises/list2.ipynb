{
  "cells": [
    {
      "cell_type": "code",
      "execution_count": null,
      "metadata": {},
      "outputs": [],
      "source": [
        "# Copyright 2010 Google Inc.\n",
        "# Licensed under the Apache License, Version 2.0\n",
        "# http://www.apache.org/licenses/LICENSE-2.0\n",
        "\n",
        "# Additional basic list exercises"
      ]
    },
    {
      "cell_type": "code",
      "execution_count": null,
      "metadata": {},
      "outputs": [],
      "source": [
        "# D. Given a list of numbers, return a tuple where\n",
        "# all adjacent == elements have been reduced to a single element,\n",
        "# so [1, 2, 2, 3] returns (1, 2, 3). You may create a new list or\n",
        "# modify the passed in list.\n",
        "\n",
        "\n",
        "def remove_adjacent(nums):\n",
        "    # +++your code here+++\n",
        "    return tuple(set(nums))"
      ]
    },
    {
      "cell_type": "code",
      "execution_count": null,
      "metadata": {},
      "outputs": [],
      "source": [
        "# E. Given two lists sorted in increasing order, create and return a merged\n",
        "# list of all the elements in sorted order. You may modify the passed in lists.\n",
        "# Ideally, the solution should work in \"linear\" time, making a single\n",
        "# pass of both lists.\n",
        "def linear_merge(list1, list2):\n",
        "    # +++your code here+++\n",
        "    merged = []\n",
        "    while len(list1) and len(list2):\n",
        "        merged.append((list1 if list1[-1] > list2[-1] else list2).pop(-1))\n",
        "    merged += list1 if len(list1) else list2\n",
        "    return merged[-1::-1]\n"
      ]
    },
    {
      "cell_type": "code",
      "execution_count": null,
      "metadata": {},
      "outputs": [],
      "source": [
        "# Simple provided test() function used in main() to print\n",
        "# what each function returns vs. what it's supposed to return.\n",
        "def test(got, expected):\n",
        "    if got == expected:\n",
        "        prefix = ' OK '\n",
        "    else:\n",
        "        prefix = '  X '\n",
        "    print (f'{prefix} got: {got} expected: {expected}')"
      ]
    },
    {
      "cell_type": "code",
      "execution_count": null,
      "metadata": {},
      "outputs": [],
      "source": [
        "# Calls the above functions with interesting inputs.\n",
        "def main():\n",
        "    print()\n",
        "    print('remove_adjacent')\n",
        "    test(remove_adjacent([1, 2, 2, 3]), (1, 2, 3))\n",
        "    test(remove_adjacent([2, 2, 3, 3, 3]), (2, 3))\n",
        "    test(remove_adjacent([]), ())\n",
        "\n",
        "    print()\n",
        "    print('linear_merge')\n",
        "    test(linear_merge(['aa', 'xx', 'zz'], ['bb', 'cc']),\n",
        "         ['aa', 'bb', 'cc', 'xx', 'zz'])\n",
        "    test(linear_merge(['aa', 'xx'], ['bb', 'cc', 'zz']),\n",
        "         ['aa', 'bb', 'cc', 'xx', 'zz'])\n",
        "    test(linear_merge(['aa', 'aa'], ['aa', 'bb', 'bb']),\n",
        "         ['aa', 'aa', 'aa', 'bb', 'bb'])\n",
        "\n",
        "\n",
        "main()"
      ]
    }
  ],
  "metadata": {
    "kernelspec": {
      "display_name": ".venv",
      "language": "python",
      "name": "python3"
    },
    "language_info": {
      "codemirror_mode": {
        "name": "ipython",
        "version": 3
      },
      "file_extension": ".py",
      "mimetype": "text/x-python",
      "name": "python",
      "nbconvert_exporter": "python",
      "pygments_lexer": "ipython3",
      "version": "3.10.4"
    },
    "orig_nbformat": 4
  },
  "nbformat": 4,
  "nbformat_minor": 2
}
