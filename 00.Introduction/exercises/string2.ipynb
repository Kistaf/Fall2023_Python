{
  "cells": [
    {
      "attachments": {},
      "cell_type": "markdown",
      "id": "dc1209b9",
      "metadata": {},
      "source": [
        "# Additional basic string exercises\n",
        "\n",
        "## D. verbing\n",
        "Given a string, if its length is at least 3,\n",
        "add 'ing' to its end.\n",
        "Unless it already ends in 'ing', in which case\n",
        "add 'ly' instead.\n",
        "If the string length is less than 3, leave it unchanged.\n",
        "Return the resulting string."
      ]
    },
    {
      "cell_type": "code",
      "execution_count": null,
      "id": "e329a394",
      "metadata": {},
      "outputs": [],
      "source": [
        "def verbing(s):\n",
        "  if len(s) >= 3 and s.endswith(\"ing\") == True:\n",
        "    return s + 'ly'\n",
        "  elif len(s) >= 3:\n",
        "    return s + 'ing'\n",
        "  return s"
      ]
    },
    {
      "attachments": {},
      "cell_type": "markdown",
      "id": "a3d4f766",
      "metadata": {},
      "source": [
        "## E. not_bad\n",
        "Given a string, find the first appearance of the\n",
        "substring 'not' and 'bad'. If the 'bad' follows\n",
        "the 'not', replace the whole 'not'...'bad' substring\n",
        "with 'good'.\n",
        "Return the resulting string.\n",
        "So 'This dinner is not that bad!' yields:\n",
        "This dinner is good!"
      ]
    },
    {
      "cell_type": "code",
      "execution_count": null,
      "id": "17314eb5",
      "metadata": {},
      "outputs": [],
      "source": [
        "def not_bad(s: str):\n",
        "  not_index = s.find('not')\n",
        "  bad_index = s.find('bad')\n",
        "  if bad_index > not_index:\n",
        "    return s[:not_index] + 'good' + s[bad_index + 3:]\n",
        "  return s"
      ]
    },
    {
      "attachments": {},
      "cell_type": "markdown",
      "id": "34ccc40b",
      "metadata": {},
      "source": [
        "## F. front_back\n",
        "Consider dividing a string into two halves.\n",
        "If the length is even, the front and back halves are the same length.\n",
        "If the length is odd, we'll say that the extra char goes in the front half.\n",
        "e.g. 'abcde', the front half is 'abc', the back half 'de'.\n",
        "Given 2 strings, a and b, return a string of the form\n",
        "a-front + b-front + a-back + b-back"
      ]
    },
    {
      "cell_type": "code",
      "execution_count": null,
      "id": "75fe531b",
      "metadata": {},
      "outputs": [],
      "source": [
        "def front_back(a, b):\n",
        "  a_front, a_back = a[:len(a)//2 + (1 if len(a) % 2 != 0 else 0)], a[len(a)//2 + (1 if len(a) % 2 != 0 else 0):]\n",
        "  b_front, b_back = b[:len(b)//2 + (1 if len(b) % 2 != 0 else 0)], b[len(b)//2 + (1 if len(b) % 2 != 0 else 0):]\n",
        "  return a_front + b_front + a_back + b_back"
      ]
    },
    {
      "cell_type": "code",
      "execution_count": null,
      "id": "15eb1f5c",
      "metadata": {},
      "outputs": [],
      "source": [
        "# This function should not be modified.\n",
        "\n",
        "def test(got, expected):\n",
        "  if got == expected:\n",
        "    prefix = ' OK '\n",
        "  else:\n",
        "    prefix = '  X '\n",
        "  print (prefix + ' got: ' + got + ' expected: ' + expected)"
      ]
    },
    {
      "cell_type": "code",
      "execution_count": null,
      "id": "0bc4d162",
      "metadata": {},
      "outputs": [],
      "source": [
        "# This function should not be modified.\n",
        "\n",
        "def main():\n",
        "  print ('verbing')\n",
        "  test(verbing('hail'), 'hailing')\n",
        "  test(verbing('swiming'), 'swimingly')\n",
        "  test(verbing('do'), 'do')\n",
        "\n",
        "  print()\n",
        "  print ('not_bad')\n",
        "  test(not_bad('This movie is not so bad'), 'This movie is good')\n",
        "  test(not_bad('This dinner is not that bad!'), 'This dinner is good!')\n",
        "  test(not_bad('This tea is not hot'), 'This tea is not hot')\n",
        "  test(not_bad(\"It's bad yet not\"), \"It's bad yet not\")\n",
        "\n",
        "  print()\n",
        "  print ('front_back')\n",
        "  test(front_back('abcd', 'xy'), 'abxcdy')\n",
        "  test(front_back('abcde', 'xyz'), 'abcxydez')\n",
        "  test(front_back('Kitten', 'Donut'), 'KitDontenut')"
      ]
    },
    {
      "cell_type": "code",
      "execution_count": null,
      "id": "b71c55f9",
      "metadata": {},
      "outputs": [],
      "source": [
        "main()"
      ]
    }
  ],
  "metadata": {
    "kernelspec": {
      "display_name": "Python 3",
      "language": "python",
      "name": "python3"
    },
    "language_info": {
      "codemirror_mode": {
        "name": "ipython",
        "version": 3
      },
      "file_extension": ".py",
      "mimetype": "text/x-python",
      "name": "python",
      "nbconvert_exporter": "python",
      "pygments_lexer": "ipython3",
      "version": "3.10.4"
    }
  },
  "nbformat": 4,
  "nbformat_minor": 5
}
